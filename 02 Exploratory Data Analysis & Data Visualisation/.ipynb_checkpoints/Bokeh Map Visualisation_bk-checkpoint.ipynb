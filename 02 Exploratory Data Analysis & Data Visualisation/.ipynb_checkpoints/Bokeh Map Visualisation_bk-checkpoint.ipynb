{
 "cells": [
  {
   "cell_type": "markdown",
   "metadata": {},
   "source": [
    "# Import libraries"
   ]
  },
  {
   "cell_type": "code",
   "execution_count": 3,
   "metadata": {},
   "outputs": [
    {
     "ename": "ModuleNotFoundError",
     "evalue": "No module named 'geopandas'",
     "output_type": "error",
     "traceback": [
      "\u001b[1;31m---------------------------------------------------------------------------\u001b[0m",
      "\u001b[1;31mModuleNotFoundError\u001b[0m                       Traceback (most recent call last)",
      "\u001b[1;32m<ipython-input-3-ac7742cec59e>\u001b[0m in \u001b[0;36m<module>\u001b[1;34m\u001b[0m\n\u001b[0;32m      1\u001b[0m \u001b[1;32mimport\u001b[0m \u001b[0mpandas\u001b[0m \u001b[1;32mas\u001b[0m \u001b[0mpd\u001b[0m\u001b[1;33m\u001b[0m\u001b[1;33m\u001b[0m\u001b[0m\n\u001b[1;32m----> 2\u001b[1;33m \u001b[1;32mimport\u001b[0m \u001b[0mgeopandas\u001b[0m \u001b[1;32mas\u001b[0m \u001b[0mgpd\u001b[0m \u001b[1;31m#pip install geopandas\u001b[0m\u001b[1;33m\u001b[0m\u001b[1;33m\u001b[0m\u001b[0m\n\u001b[0m\u001b[0;32m      3\u001b[0m \u001b[1;32mimport\u001b[0m \u001b[0mnumpy\u001b[0m \u001b[1;32mas\u001b[0m \u001b[0mnp\u001b[0m\u001b[1;33m\u001b[0m\u001b[1;33m\u001b[0m\u001b[0m\n\u001b[0;32m      4\u001b[0m \u001b[1;33m\u001b[0m\u001b[0m\n\u001b[0;32m      5\u001b[0m \u001b[0mshapefile\u001b[0m \u001b[1;33m=\u001b[0m \u001b[1;34m'countries_110m/ne_110m_admin_0_countries.shp'\u001b[0m\u001b[1;33m\u001b[0m\u001b[1;33m\u001b[0m\u001b[0m\n",
      "\u001b[1;31mModuleNotFoundError\u001b[0m: No module named 'geopandas'"
     ]
    }
   ],
   "source": [
    "import pandas as pd\n",
    "import geopandas as gpd #pip install geopandas\n",
    "import numpy as np\n",
    "\n",
    "shapefile = 'countries_110m/ne_110m_admin_0_countries.shp'\n",
    "datafileW = 'cleaned_datasets/winter_dataset.csv'\n",
    "datafileS = 'cleaned_datasets/summer_dataset.csv'\n",
    "\n",
    "gdf = gpd.read_file(shapefile)[['ADMIN', 'ADM0_A3', 'geometry']]\n",
    "gdf.columns = ['country', 'country_code', 'geometry']"
   ]
  },
  {
   "cell_type": "markdown",
   "metadata": {},
   "source": [
    "### Drop Antartica from the map"
   ]
  },
  {
   "cell_type": "code",
   "execution_count": null,
   "metadata": {},
   "outputs": [],
   "source": [
    "#drop antartica\n",
    "gdf = gdf.drop(gdf.index[159])\n",
    "print(gdf[gdf['country'] == 'Antarctica'])"
   ]
  },
  {
   "cell_type": "code",
   "execution_count": null,
   "metadata": {},
   "outputs": [],
   "source": [
    "# read Summer and Winter data separately\n",
    "dfW = pd.read_csv(datafileW)\n",
    "dfS = pd.read_csv(datafileS)\n",
    "\n",
    "# rename column names\n",
    "dfW = dfW.rename(columns = {'GoldMedals':'Gold', 'SilverMedals':'Silver','BronzeMedals':'Bronze','TotalMedals':'Total'})\n",
    "dfS = dfS.rename(columns = {'GoldMedals':'Gold', 'SilverMedals':'Silver','BronzeMedals':'Bronze','TotalMedals':'Total'})"
   ]
  },
  {
   "cell_type": "code",
   "execution_count": null,
   "metadata": {},
   "outputs": [],
   "source": [
    "# get country ISO code from external website\n",
    "countryLst = pd.read_html(\"http://www.ibiblio.org/units/codes/country.htm\")\n",
    "countryData = pd.concat(countryLst, ignore_index=True)\n",
    "countryData = countryData.rename(columns=countryData.iloc[0])\n",
    "countryData = countryData.drop(countryData.index[0])\n",
    "countryData = countryData[countryData[\"Country Name\"] != 'Country Name']\n",
    "countryData = countryData.drop(['ISO  2-alpha', 'IANA  Internet', 'UN  Vehicle', 'UN/ISO  numeric', 'ITU  calling'], axis=1)\n",
    "countryData = countryData.rename(columns = {'ISO  3-alpha': 'ISO_countryCode', 'IOC  Olympic': 'Oly_countryCode'})"
   ]
  },
  {
   "cell_type": "code",
   "execution_count": null,
   "metadata": {},
   "outputs": [],
   "source": [
    "# map the country code to original table\n",
    "medaltbS = dfS.merge(countryData, left_on = 'CountryCode', right_on = 'Oly_countryCode', how = 'left')\n",
    "medaltbW = dfW.merge(countryData, left_on = 'CountryCode', right_on = 'Oly_countryCode', how = 'left')"
   ]
  },
  {
   "cell_type": "code",
   "execution_count": null,
   "metadata": {},
   "outputs": [],
   "source": [
    "# Plotting graph\n",
    "import json\n",
    "from bokeh.io import output_notebook, show, output_file, curdoc\n",
    "from bokeh.plotting import figure\n",
    "from bokeh.models import GeoJSONDataSource, LinearColorMapper, ColorBar\n",
    "from bokeh.palettes import brewer\n",
    "from bokeh.models import Slider, HoverTool\n",
    "from bokeh.layouts import widgetbox, row, column\n",
    "from bokeh.models.widgets import RadioButtonGroup\n",
    "\n",
    "#Define function that returns json_data for year and season selected by user.\n",
    "    \n",
    "def json_data(selectedYear, season):\n",
    "    yr = selectedYear\n",
    "    if(season == 0):\n",
    "        df_yr = medaltbS[medaltbS['Year'] == yr]\n",
    "    else:\n",
    "        df_yr = medaltbW[medaltbW['Year'] == yr]\n",
    "    merged = gdf.merge(df_yr, left_on = 'country_code', right_on = 'ISO_countryCode', how = 'left')\n",
    "    merged.fillna('No data', inplace = True)\n",
    "    merged_json = json.loads(merged.to_json())\n",
    "    json_data = json.dumps(merged_json)\n",
    "    return json_data\n",
    "\n",
    "\n",
    "#Input GeoJSON source that contains features for plotting.\n",
    "geosource = GeoJSONDataSource(geojson = json_data(2016, 0))\n",
    "\n",
    "#Define a sequential multi-hue color palette.\n",
    "palette = brewer['PuBu'][8]\n",
    "\n",
    "#Reverse color order so that dark blue is highest obesity.\n",
    "palette = palette[::-1]\n",
    "\n",
    "#Instantiate LinearColorMapper that linearly maps numbers in a range, into a sequence of colors. Input nan_color.\n",
    "color_mapper = LinearColorMapper(palette = palette, low = 0, high = 300, nan_color = '#d9d9d9')\n",
    "\n",
    "#Define custom tick labels for color bar.\n",
    "tick_labels = {'0': '0', '20': '20', '40':'40', '60':'60', '80':'80', '100':'100', '120':'120','140':'140', '160': '160', '180': '180', '200': '200'}\n",
    "color_mapper.high = 200\n",
    "#Add hover tool\n",
    "hover = HoverTool(tooltips = [ ('Country/region','@country'),('Total medals', '@Total')])\n",
    "\n",
    "\n",
    "#Create color bar. \n",
    "color_bar = ColorBar(color_mapper=color_mapper, label_standoff=8,width = 500, height = 20,\n",
    "                     border_line_color=None,location = (0,0), orientation = 'horizontal', major_label_overrides = tick_labels)\n",
    "\n",
    "\n",
    "#Create figure object.\n",
    "p = figure(title = 'Total Olympic Medals, Summer 2016', plot_height = 750 , plot_width = 1400, toolbar_location = None, tools = [hover])\n",
    "p.xgrid.grid_line_color = None\n",
    "p.ygrid.grid_line_color = None\n",
    "\n",
    "#Add patch renderer to figure. \n",
    "p.patches('xs','ys', source = geosource,fill_color = {'field' :'Total', 'transform' : color_mapper}, line_color = 'black', line_width = 0.25, fill_alpha = 1)\n",
    "\n",
    "p.background_fill_color = \"#add8e6\"\n",
    "p.title.text_font_size = '20pt'\n",
    "p.axis.visible = False\n",
    "p.add_layout(color_bar, 'below')\n",
    "\n",
    "# Define the callback function: update_plot\n",
    "def update_plot(attr, old, new):\n",
    "    yr = slider.value\n",
    "    if(radio_button_group2.active == 0):\n",
    "        p.title.text = 'Total Olympic Medals, Summer %d' %yr\n",
    "    else:\n",
    "        p.title.text = 'Total Olympic Medals, Winter %d' %yr\n",
    "    new_data = json_data(yr, radio_button_group2.active)\n",
    "    geosource.geojson = new_data\n",
    "        \n",
    "def update_medal_btn(attr, old , new):\n",
    "    #new_data = json_data(slider.value)\n",
    "    #geosource.geojson = new_data\n",
    "    if(radio_button_group1.active == 0):\n",
    "        #Gold\n",
    "        palette = brewer['OrRd'][6]\n",
    "        palette = palette[::-1]\n",
    "        color_mapper.palette = palette\n",
    "        color_mapper.high = 60\n",
    "        tick_labels = {'0': '0', '10': '10', '20': '20', '30': '30', '40': '40', '50': '50', '60':'60'}\n",
    "        color_bar.major_label_overrides = tick_labels\n",
    "        #color_bar.color_mapper = color_mapper\n",
    "        hover = HoverTool(tooltips = [ ('Country/region','@country'),('Gold medals', '@Gold')])\n",
    "        p.tools = [hover]\n",
    "        p.patches('xs','ys', source = geosource,fill_color = {'field' :'Gold', 'transform' : color_mapper}, line_color = 'black', line_width = 0.25, fill_alpha = 1)\n",
    "    elif (radio_button_group1.active == 1):\n",
    "        #Silver\n",
    "        palette = brewer['Greys'][5]\n",
    "        palette = palette[::-1]\n",
    "        color_mapper.palette = palette\n",
    "        color_mapper.high = 50\n",
    "        tick_labels = {'0': '0', '10': '10', '20': '20', '30': '30', '40': '40', '50': '50'}\n",
    "        hover = HoverTool(tooltips = [ ('Country/region','@country'),('Silver medals', '@Silver')])\n",
    "        #color_bar.color_mapper = color_mapper\n",
    "        color_bar.major_label_overrides = tick_labels\n",
    "        p.tools = [hover]\n",
    "        p.patches('xs','ys', source = geosource,fill_color = {'field' :'Silver', 'transform' : color_mapper}, line_color = 'black', line_width = 0.25, fill_alpha = 1)\n",
    "    elif (radio_button_group1.active == 2):\n",
    "        #Bronze\n",
    "        palette = brewer['YlOrBr'][5]\n",
    "        palette = palette[::-1]\n",
    "        color_mapper.palette = palette\n",
    "        color_mapper.high = 50\n",
    "        tick_labels = {'0': '0', '10': '10', '20': '20', '30': '30', '40': '40', '50': '50'}\n",
    "        hover = HoverTool(tooltips = [ ('Country/region','@country'),('Bronze medals', '@Bronze')])\n",
    "        #color_bar.color_mapper = color_mapper\n",
    "        color_bar.major_label_overrides = tick_labels\n",
    "        p.tools = [hover]\n",
    "        p.patches('xs','ys', source = geosource,fill_color = {'field' :'Bronze', 'transform' : color_mapper}, line_color = 'black', line_width = 0.25, fill_alpha = 1)\n",
    "    else:\n",
    "        #Total\n",
    "        palette = brewer['PuBu'][8]\n",
    "        palette = palette[::-1]\n",
    "        color_mapper.palette = palette\n",
    "        color_mapper.high = 200\n",
    "        tick_labels = {'0': '0', '20': '20', '40':'40', '60':'60', '80':'80', '100':'100', '120':'120','140':'140', '160': '160', '180': '180', '200': '200'}\n",
    "        hover = HoverTool(tooltips = [ ('Country/region','@country'),('Total medals', '@Total')])\n",
    "        #color_bar.color_mapper = color_mapper\n",
    "        color_bar.major_label_overrides = tick_labels\n",
    "        p.tools = [hover]\n",
    "        p.patches('xs','ys', source = geosource,fill_color = {'field' :'Total', 'transform' : color_mapper}, line_color = 'black', line_width = 0.25, fill_alpha = 1)\n",
    "\n",
    "    #layout.children[0] = column(p, widgetbox(radio_button_group, slider))\n",
    "    \n",
    "# Make a slider object: slider \n",
    "slider = Slider(title = 'Year',start = 1896, end = 2016, step = 2, value = 2016, width = 600)\n",
    "slider.on_change('value', update_plot)\n",
    "\n",
    "# Make a button group object: radio_button_group1 for Medal Type filtering\n",
    "radio_button_group1 = RadioButtonGroup(labels=[\"Gold\", \"Silver\", \"Bronze\", \"Total\"], active=3)\n",
    "radio_button_group1.on_change('active', update_medal_btn)\n",
    "\n",
    "# Make a button group object: radio_button_group2 for season filtering\n",
    "radio_button_group2 = RadioButtonGroup(labels=[\"Summer\", \"Winter\"], active=0)\n",
    "radio_button_group2.on_change('active', update_plot)\n",
    "\n",
    "# Make a column layout of widgetbox(slider + button groups) and plot, and add it to the current document\n",
    "layout = column(p, widgetbox(radio_button_group1, radio_button_group2, slider))\n",
    "curdoc().add_root(layout)\n",
    "\n",
    "#Display plot inline in Jupyter notebook\n",
    "output_notebook()\n",
    "\n",
    "#Display plot\n",
    "show(layout)\n",
    "\n",
    "# It requires bokeh server to load the interactive functions, please follow the steps at the NOTE section below."
   ]
  },
  {
   "cell_type": "markdown",
   "metadata": {},
   "source": [
    "# NOTE:\n",
    "\n",
    "## Step 1 : Start bokeh server\n",
    "\n",
    "In the browser using the jupyter notebook go to the `Terminal` \n",
    "\n",
    "```\n",
    "bokeh serve --show Mini-Project_Visualization.ipynb\n",
    "```\n",
    "## Step 2 : Browse the interactive map\n",
    "\n",
    "The interactive map is rendered by bokeh server which can be browsed at `http://localhost:5006/Mini-Project_Visualization`"
   ]
  },
  {
   "cell_type": "markdown",
   "metadata": {},
   "source": [
    "##### World-Map.gif"
   ]
  },
  {
   "cell_type": "markdown",
   "metadata": {},
   "source": [
    "![world-map](bokeh_gifs/World-Map.gif)"
   ]
  },
  {
   "cell_type": "markdown",
   "metadata": {},
   "source": [
    "##### World-Map-Button.gif"
   ]
  },
  {
   "cell_type": "markdown",
   "metadata": {},
   "source": [
    "![world-map-button](bokeh_gifs/World-Map-Button.gif)"
   ]
  },
  {
   "cell_type": "markdown",
   "metadata": {},
   "source": [
    "##### World-Map-Slider.gif"
   ]
  },
  {
   "cell_type": "markdown",
   "metadata": {},
   "source": [
    "![world-map-slider](bokeh_gifs/World-Map-Slider.gif)"
   ]
  }
 ],
 "metadata": {
  "kernelspec": {
   "display_name": "Python 3",
   "language": "python",
   "name": "python3"
  },
  "language_info": {
   "codemirror_mode": {
    "name": "ipython",
    "version": 3
   },
   "file_extension": ".py",
   "mimetype": "text/x-python",
   "name": "python",
   "nbconvert_exporter": "python",
   "pygments_lexer": "ipython3",
   "version": "3.7.1"
  }
 },
 "nbformat": 4,
 "nbformat_minor": 2
}
